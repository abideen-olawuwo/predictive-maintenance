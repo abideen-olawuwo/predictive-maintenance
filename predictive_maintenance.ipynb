{
 "cells": [
  {
   "cell_type": "code",
   "execution_count": 23,
   "id": "a82af54d",
   "metadata": {},
   "outputs": [],
   "source": [
    "import numpy as np \n",
    "import pandas as pd \n",
    "import seaborn as sns\n",
    "import matplotlib as plt"
   ]
  },
  {
   "cell_type": "code",
   "execution_count": 2,
   "id": "3d713c44",
   "metadata": {},
   "outputs": [
    {
     "data": {
      "text/plain": [
       "(10000, 14)"
      ]
     },
     "execution_count": 2,
     "metadata": {},
     "output_type": "execute_result"
    }
   ],
   "source": [
    "df = pd.read_csv('ai4i2020.csv')\n",
    "df.shape"
   ]
  },
  {
   "cell_type": "code",
   "execution_count": 3,
   "id": "be0b0391",
   "metadata": {},
   "outputs": [
    {
     "data": {
      "text/html": [
       "<div>\n",
       "<style scoped>\n",
       "    .dataframe tbody tr th:only-of-type {\n",
       "        vertical-align: middle;\n",
       "    }\n",
       "\n",
       "    .dataframe tbody tr th {\n",
       "        vertical-align: top;\n",
       "    }\n",
       "\n",
       "    .dataframe thead th {\n",
       "        text-align: right;\n",
       "    }\n",
       "</style>\n",
       "<table border=\"1\" class=\"dataframe\">\n",
       "  <thead>\n",
       "    <tr style=\"text-align: right;\">\n",
       "      <th></th>\n",
       "      <th>UDI</th>\n",
       "      <th>Product ID</th>\n",
       "      <th>Type</th>\n",
       "      <th>Air temperature [K]</th>\n",
       "      <th>Process temperature [K]</th>\n",
       "      <th>Rotational speed [rpm]</th>\n",
       "      <th>Torque [Nm]</th>\n",
       "      <th>Tool wear [min]</th>\n",
       "      <th>Machine failure</th>\n",
       "      <th>TWF</th>\n",
       "      <th>HDF</th>\n",
       "      <th>PWF</th>\n",
       "      <th>OSF</th>\n",
       "      <th>RNF</th>\n",
       "    </tr>\n",
       "  </thead>\n",
       "  <tbody>\n",
       "    <tr>\n",
       "      <th>0</th>\n",
       "      <td>1</td>\n",
       "      <td>M14860</td>\n",
       "      <td>M</td>\n",
       "      <td>298.1</td>\n",
       "      <td>308.6</td>\n",
       "      <td>1551</td>\n",
       "      <td>42.8</td>\n",
       "      <td>0</td>\n",
       "      <td>0</td>\n",
       "      <td>0</td>\n",
       "      <td>0</td>\n",
       "      <td>0</td>\n",
       "      <td>0</td>\n",
       "      <td>0</td>\n",
       "    </tr>\n",
       "    <tr>\n",
       "      <th>1</th>\n",
       "      <td>2</td>\n",
       "      <td>L47181</td>\n",
       "      <td>L</td>\n",
       "      <td>298.2</td>\n",
       "      <td>308.7</td>\n",
       "      <td>1408</td>\n",
       "      <td>46.3</td>\n",
       "      <td>3</td>\n",
       "      <td>0</td>\n",
       "      <td>0</td>\n",
       "      <td>0</td>\n",
       "      <td>0</td>\n",
       "      <td>0</td>\n",
       "      <td>0</td>\n",
       "    </tr>\n",
       "    <tr>\n",
       "      <th>2</th>\n",
       "      <td>3</td>\n",
       "      <td>L47182</td>\n",
       "      <td>L</td>\n",
       "      <td>298.1</td>\n",
       "      <td>308.5</td>\n",
       "      <td>1498</td>\n",
       "      <td>49.4</td>\n",
       "      <td>5</td>\n",
       "      <td>0</td>\n",
       "      <td>0</td>\n",
       "      <td>0</td>\n",
       "      <td>0</td>\n",
       "      <td>0</td>\n",
       "      <td>0</td>\n",
       "    </tr>\n",
       "    <tr>\n",
       "      <th>3</th>\n",
       "      <td>4</td>\n",
       "      <td>L47183</td>\n",
       "      <td>L</td>\n",
       "      <td>298.2</td>\n",
       "      <td>308.6</td>\n",
       "      <td>1433</td>\n",
       "      <td>39.5</td>\n",
       "      <td>7</td>\n",
       "      <td>0</td>\n",
       "      <td>0</td>\n",
       "      <td>0</td>\n",
       "      <td>0</td>\n",
       "      <td>0</td>\n",
       "      <td>0</td>\n",
       "    </tr>\n",
       "    <tr>\n",
       "      <th>4</th>\n",
       "      <td>5</td>\n",
       "      <td>L47184</td>\n",
       "      <td>L</td>\n",
       "      <td>298.2</td>\n",
       "      <td>308.7</td>\n",
       "      <td>1408</td>\n",
       "      <td>40.0</td>\n",
       "      <td>9</td>\n",
       "      <td>0</td>\n",
       "      <td>0</td>\n",
       "      <td>0</td>\n",
       "      <td>0</td>\n",
       "      <td>0</td>\n",
       "      <td>0</td>\n",
       "    </tr>\n",
       "  </tbody>\n",
       "</table>\n",
       "</div>"
      ],
      "text/plain": [
       "   UDI Product ID Type  Air temperature [K]  Process temperature [K]  \\\n",
       "0    1     M14860    M                298.1                    308.6   \n",
       "1    2     L47181    L                298.2                    308.7   \n",
       "2    3     L47182    L                298.1                    308.5   \n",
       "3    4     L47183    L                298.2                    308.6   \n",
       "4    5     L47184    L                298.2                    308.7   \n",
       "\n",
       "   Rotational speed [rpm]  Torque [Nm]  Tool wear [min]  Machine failure  TWF  \\\n",
       "0                    1551         42.8                0                0    0   \n",
       "1                    1408         46.3                3                0    0   \n",
       "2                    1498         49.4                5                0    0   \n",
       "3                    1433         39.5                7                0    0   \n",
       "4                    1408         40.0                9                0    0   \n",
       "\n",
       "   HDF  PWF  OSF  RNF  \n",
       "0    0    0    0    0  \n",
       "1    0    0    0    0  \n",
       "2    0    0    0    0  \n",
       "3    0    0    0    0  \n",
       "4    0    0    0    0  "
      ]
     },
     "execution_count": 3,
     "metadata": {},
     "output_type": "execute_result"
    }
   ],
   "source": [
    "df.head()"
   ]
  },
  {
   "cell_type": "code",
   "execution_count": 4,
   "id": "75e5eddc",
   "metadata": {},
   "outputs": [
    {
     "data": {
      "text/plain": [
       "Index(['UDI', 'Product ID', 'Type', 'Air temperature [K]',\n",
       "       'Process temperature [K]', 'Rotational speed [rpm]', 'Torque [Nm]',\n",
       "       'Tool wear [min]', 'Machine failure', 'TWF', 'HDF', 'PWF', 'OSF',\n",
       "       'RNF'],\n",
       "      dtype='object')"
      ]
     },
     "execution_count": 4,
     "metadata": {},
     "output_type": "execute_result"
    }
   ],
   "source": [
    "df.columns"
   ]
  },
  {
   "cell_type": "code",
   "execution_count": 6,
   "id": "0363a1fe",
   "metadata": {},
   "outputs": [
    {
     "name": "stdout",
     "output_type": "stream",
     "text": [
      "<class 'pandas.core.frame.DataFrame'>\n",
      "RangeIndex: 10000 entries, 0 to 9999\n",
      "Data columns (total 14 columns):\n",
      " #   Column                   Non-Null Count  Dtype  \n",
      "---  ------                   --------------  -----  \n",
      " 0   UDI                      10000 non-null  int64  \n",
      " 1   Product ID               10000 non-null  object \n",
      " 2   Type                     10000 non-null  object \n",
      " 3   Air temperature [K]      10000 non-null  float64\n",
      " 4   Process temperature [K]  10000 non-null  float64\n",
      " 5   Rotational speed [rpm]   10000 non-null  int64  \n",
      " 6   Torque [Nm]              10000 non-null  float64\n",
      " 7   Tool wear [min]          10000 non-null  int64  \n",
      " 8   Machine failure          10000 non-null  int64  \n",
      " 9   TWF                      10000 non-null  int64  \n",
      " 10  HDF                      10000 non-null  int64  \n",
      " 11  PWF                      10000 non-null  int64  \n",
      " 12  OSF                      10000 non-null  int64  \n",
      " 13  RNF                      10000 non-null  int64  \n",
      "dtypes: float64(3), int64(9), object(2)\n",
      "memory usage: 1.1+ MB\n"
     ]
    }
   ],
   "source": [
    "df.info()"
   ]
  },
  {
   "cell_type": "code",
   "execution_count": 21,
   "id": "088f4d69",
   "metadata": {},
   "outputs": [
    {
     "name": "stdout",
     "output_type": "stream",
     "text": [
      "UDI :\n",
      " [    1     2     3 ...  9998  9999 10000]\n",
      "1        1\n",
      "6671     1\n",
      "6664     1\n",
      "6665     1\n",
      "6666     1\n",
      "        ..\n",
      "3334     1\n",
      "3335     1\n",
      "3336     1\n",
      "3337     1\n",
      "10000    1\n",
      "Name: UDI, Length: 10000, dtype: int64\n",
      "\n",
      " **************************************** \n",
      "\n",
      "Product ID :\n",
      " ['M14860' 'L47181' 'L47182' ... 'M24857' 'H39412' 'M24859']\n",
      "M14860    1\n",
      "L53850    1\n",
      "L53843    1\n",
      "L53844    1\n",
      "L53845    1\n",
      "         ..\n",
      "M18193    1\n",
      "M18194    1\n",
      "L50515    1\n",
      "L50516    1\n",
      "M24859    1\n",
      "Name: Product ID, Length: 10000, dtype: int64\n",
      "\n",
      " **************************************** \n",
      "\n",
      "Type :\n",
      " ['M' 'L' 'H']\n",
      "L    6000\n",
      "M    2997\n",
      "H    1003\n",
      "Name: Type, dtype: int64\n",
      "\n",
      " **************************************** \n",
      "\n",
      "Air temperature [K] :\n",
      " [298.1 298.2 298.3 298.5 298.4 298.6 298.7 298.8 298.9 299.  299.1 298.\n",
      " 297.9 297.8 297.7 297.6 297.5 297.4 297.3 297.2 297.1 297.  296.9 296.8\n",
      " 296.7 296.6 296.5 296.3 296.4 296.2 296.1 296.  295.9 295.8 295.7 295.6\n",
      " 295.5 295.4 295.3 299.2 299.3 299.5 299.4 299.6 299.7 299.8 299.9 300.\n",
      " 300.1 300.2 300.3 300.4 300.5 300.6 300.7 300.8 300.9 301.  301.1 301.2\n",
      " 301.3 301.4 301.5 301.6 301.7 301.8 301.9 302.  302.1 302.2 302.3 302.4\n",
      " 302.5 302.6 302.7 302.8 302.9 303.  303.1 303.2 303.3 303.4 303.5 303.6\n",
      " 303.7 303.8 303.9 304.  304.1 304.2 304.3 304.4 304.5]\n",
      "300.7    279\n",
      "298.9    231\n",
      "297.4    230\n",
      "300.5    229\n",
      "298.8    227\n",
      "        ... \n",
      "304.4      7\n",
      "296.0      6\n",
      "295.4      3\n",
      "295.3      3\n",
      "304.5      1\n",
      "Name: Air temperature [K], Length: 93, dtype: int64\n",
      "\n",
      " **************************************** \n",
      "\n",
      "Process temperature [K] :\n",
      " [308.6 308.7 308.5 309.  308.9 309.1 309.2 309.3 309.4 309.5 308.8 308.4\n",
      " 308.3 308.2 308.1 308.  307.9 309.6 309.7 309.8 309.9 310.  310.1 310.2\n",
      " 307.8 307.7 307.6 307.5 307.4 307.3 307.2 307.1 307.  306.9 306.8 306.7\n",
      " 306.6 306.5 306.4 306.3 306.2 306.1 306.  305.9 305.8 305.7 310.3 310.4\n",
      " 310.5 310.6 310.7 310.8 310.9 311.  311.1 311.2 311.3 311.4 311.5 311.6\n",
      " 311.7 311.8 311.9 312.  312.1 312.2 312.3 312.4 312.5 312.6 312.7 312.8\n",
      " 313.  313.1 312.9 313.2 313.3 313.4 313.5 313.6 313.8 313.7]\n",
      "310.6    317\n",
      "310.8    273\n",
      "310.7    266\n",
      "308.6    265\n",
      "310.5    263\n",
      "        ... \n",
      "306.9      4\n",
      "313.7      4\n",
      "305.8      3\n",
      "305.7      2\n",
      "313.8      2\n",
      "Name: Process temperature [K], Length: 82, dtype: int64\n",
      "\n",
      " **************************************** \n",
      "\n",
      "Rotational speed [rpm] :\n",
      " [1551 1408 1498 1433 1425 1558 1527 1667 1741 1782 1423 1339 1742 2035\n",
      " 1542 1311 1410 1306 1632 1375 1450 1581 1758 1561 1861 1512 1811 1439\n",
      " 1693 1798 1419 1665 1559 1452 1379 1350 1362 1368 1372 1472 1489 1843\n",
      " 1418 1412 2861 1383 1497 1565 1691 1477 1513 1661 1378 1393 1592 1829\n",
      " 1812 1523 1394 1679 1466 1924 1369 1601 1461 1455 1398 1402 1445 1453\n",
      " 1469 1422 1804 1436 1544 1487 1753 1830 1727 1622 1351 1575 1750 1529\n",
      " 1852 1991 1555 1441 1591 1621 1572 1872 1499 1486 1680 1431 1564 1599\n",
      " 1707 1467 1310 1546 1560 1329 1413 1587 1473 1737 1430 1711 1420 1297\n",
      " 1449 1268 1511 1778 1407 1391 1612 1515 1463 1584 1850 1528 1987 1495\n",
      " 1478 1471 1282 1586 1468 1440 1733 1458 1318 1610 1462 1382 1618 1988\n",
      " 1304 1475 1824 1342 1485 1446 1301 1606 1539 1666 1678 2678 1432 1588\n",
      " 1609 1636 1490 1344 1421 1386 1589 1548 1664 1447 1434 1416 1827 1569\n",
      " 1629 1538 1570 1424 1552 1611 1777 1348 1442 1395 1627 1585 1405 1662\n",
      " 1620 1357 1514 1331 1615 1482 1522 1654 1736 1390 1454 1954 1800 1524\n",
      " 1520 1484 1426 1652 1401 1479 1819 1456 1626 2051 1568 1805 1385 1438\n",
      " 1335 1392 1716 1713 2129 1567 1740 1374 1579 1305 1526 1313 1300 1646\n",
      " 1714 1685 1550 1518 1448 1488 1699 1501 1373 1703 1720 1647 1749 1995\n",
      " 1563 1474 1530 1388 2448 1459 1617 1595 1400 1507 1674 1658 1623 1517\n",
      " 1521 1596 1640 1353 1604 1533 1754 2564 1842 1712 1414 1319 1249 1460\n",
      " 1491 1571 1774 1502 2100 1722 1273 1600 1429 1573 2151 1657 1333 1496\n",
      " 1208 1848 1493 1504 1341 1535 1389 1399 1582 1793 1376 1643 1510 1276\n",
      " 1476 2874 2182 1619 1380 1833 1323 1583 1556 1324 1347 1404 1470 1326\n",
      " 1505 1464 1543 1893 1415 1428 1715 1732 2027 1553 1709 1549 1443 1675\n",
      " 1365 1759 1516 1775 1296 1803 1831 1958 1809 1332 1437 1698 1274 1650\n",
      " 1503 1574 1669 1541 1935 1676 1700 1697 2001 1628 1525 1668 1312 1278\n",
      " 1330 1480 1616 1547 2194 2000 1336 1403 1534 1634 1642 1686 1725 1926\n",
      " 1509 1545 1554 1858 1536 1226 1608 2015 1683 1435 1562 1427 1729 1738\n",
      " 1822 1577 1295 1656 1874 1531 1735 1354 1815 1838 1696 1500 1557 1506\n",
      " 1361 1451 1289 1356 1978 1483 1492 1537 1286 1337 1343 1580 1409 1743\n",
      " 1641 1605 2010 1828 1882 1285 1867 1338 1481 1566 1631 1465 1406 2833\n",
      " 1444 1898 1951 1645 2044 1594 1358 1325 1892 1915 1235 1739 1397 2161\n",
      " 1651 1370 1256 2270 1593 1396 1949 1363 1597 1263 1823 1287 1911 1387\n",
      " 1508 1532 1644 1917 1655 1748 1638 2119 1168 2071 1633 1637 1291 1881\n",
      " 1760 1648 1684 1607 1671 1927 1718 1840 1345 1653 1731 2008 2721 1695\n",
      " 1540 1734 1292 1790 2077 1340 1258 1706 1672 1690 1271 1635 1846 1834\n",
      " 1316 1367 1355 1352 1578 1417 1794 1776 1979 1371 2540 1359 1694 1702\n",
      " 1763 1880 1364 2440 1726 1309 1280 1885 2243 2153 1868 1322 2098 1929\n",
      " 1243 1411 1814 1719 1663 1771 1613 1721 1328 1717 1598 1334 1681 1708\n",
      " 1366 1786 1603 2737 1494 1944 2083 1320 1377 1602 1677 1315 1519 1692\n",
      " 2056 1976 1723 2206 2101 1614 2449 1787 1757 2304 1349 1781 2216 2090\n",
      " 1230 2057 1639 1688 1877 1802 1590 1844 1921 1303 1761 1769 1384 1792\n",
      " 1764 1952 2029 1457 1906 1948 1260 1624 2381 1576 1942 1950 1981 2886\n",
      " 1847 2567 1767 2066 1784 1859 1327 1855 1752 1630 1242 1705 1902 1968\n",
      " 1687 1977 1314 1969 1704 1791 1839 1266 1308 1281 1202 1298 1747 1785\n",
      " 1279 1381 1660 1360 1940 1321 1701 2280 1941 1863 1762 1908 1939 1816\n",
      " 1245 1965 2549 1821 1746 1886 1755 1744 1841 1772 1845 1856 1689 2384\n",
      " 2022 1267 2329 1946 2069 1730 1766 1972 1795 1293 2248 2250 1957 2421\n",
      " 1207 1670 1283 1346 1254 1294 1779 1751 2256 1728 1625 1869 2266 1302\n",
      " 1851 1299 1889 1925 2183 1887 1875 1807 1997 1682 2496 1251 1888 1255\n",
      " 1810 2355 1996 2007 1290 1659 1934 2174 1783 1932 2293 2141 2563 1780\n",
      " 1649 2179 2025 1724 1288 1984 2068 1269 1937 1217 2289 1962 2432 1673\n",
      " 2760 1989 2012 2297 1918 2639 1270 2092 1871 1980 1899 1317 1799 2672\n",
      " 1192 1947 2465 1866 1928 1873 1916 1891 1227 2034 2709 1773 1903 2041\n",
      " 1953 1985 1909 1931 2143 2691 2305 1865 2197 1895 1884 1765 1212 1832\n",
      " 2211 1710 2157 2203 1905 1284 2032 2372 2825 2695 1259 2009 2676 2224\n",
      " 2016 1923 1967 1307 1900 1275 2102 1820 1238 1854 1879 1817 1222 1959\n",
      " 2133 2663 1818 2268 1756 1806 1922 2168 2232 1919 2344 1768 1789 2497\n",
      " 2659 1825 2113 2245 1883 2643 2028 1901 2354 2117 1897 2130 2116 2706\n",
      " 1262 2030 2024 1826 2023 2052 1745 1257 2370 2080 2170 1265 1907 2323\n",
      " 2076 2055 1234 1894 1920 2156 1853 2003 2235 2047 1813 1228 2089 1236\n",
      " 1975 1910 2165 2204 2021 1233 1248 1994 2065 1183 1913 2595 1770 1961\n",
      " 1966 2103 1876 2093 1998 2137 2219 2636 1836 2207 2237 1801 2073 1878\n",
      " 2377 2437 2478 2633 2127 2006 1960 2514 2288 1788 1261 2158 2424 1808\n",
      " 1983 2084 1864 2261 1999 2579 2013 2074 2026 1936 1246 2097 1964 2072\n",
      " 1272 1200 2218 2142 2140 1264 2710 2004 1835 2144 1229 1796 2099 2240\n",
      " 1225 2617 1971 1181 1870 2011 2262 2267 2188 1797 1896 2358 1970 2456\n",
      " 2042 1904 1862 2186 2033 2189 1837 2136 1890 2109 2049 2053 2231 2271\n",
      " 2118 2312 2450]\n",
      "1452    48\n",
      "1435    43\n",
      "1447    42\n",
      "1429    40\n",
      "1469    40\n",
      "        ..\n",
      "2197     1\n",
      "2211     1\n",
      "1905     1\n",
      "1893     1\n",
      "2450     1\n",
      "Name: Rotational speed [rpm], Length: 941, dtype: int64\n",
      "\n",
      " **************************************** \n",
      "\n",
      "Torque [Nm] :\n",
      " [42.8 46.3 49.4 39.5 40.  41.9 42.4 40.2 28.6 28.  23.9 44.3 51.1 30.\n",
      " 19.6 48.4 46.6 45.6 54.5 32.5 42.7 44.8 30.7 25.7 37.3 23.3 39.  24.6\n",
      " 44.2 30.1 48.2 25.5 48.3 34.7 48.6 36.7 39.2 50.7 52.5 45.4 50.8 49.1\n",
      " 48.5 47.5 25.8 53.9 44.1  4.6 54.9 43.8 35.1 40.7 40.3 29.5 54.4 52.6\n",
      " 38.2 22.9 25.9 38.6 45.1 28.7 32.4 65.7 22.6 45.5 44.4 35.  32.3 46.7\n",
      " 47.9 41.3 51.5 37.9 49.9 40.8 40.1 47.6 26.8 43.9 31.8 45.2 24.9 27.1\n",
      " 43.  31.9 52.2 35.3 29.9 32.7 25.  20.7 40.6 40.5 43.4 31.1 46.8 34.1\n",
      " 22.5 43.5 29.4 45.7 33.  28.1 44.7 41.2 32.2 60.5 46.5 34.3 41.1 27.7\n",
      " 43.2 49.6 53.  28.5 55.3 55.8 36.1 35.2 28.2 50.5 33.6 48.  39.9 37.6\n",
      " 41.  27.  36.2 19.8 46.  47.  60.7 52.3 35.5 43.6 26.  32.6 42.9 62.3\n",
      " 59.1 20.8 33.7 58.3 21.4 50.2 49.8 24.2 48.1 30.6 56.  43.1 34.6 51.8\n",
      " 10.7 49.5 40.9 47.1 35.7 32.8 44.  33.9 52.9 44.9 37.1 38.3 31.6 38.1\n",
      " 46.2 52.7 24.3 45.  34.4 29.3 53.8 49.2 34.8 34.9 38.7 36.6 50.3 51.6\n",
      " 58.8 31.4 33.5 56.8 56.2 42.6 35.8 40.4 63.  63.9 32.1 43.7 21.1 24.8\n",
      " 37.  39.6 54.7 26.6 23.4 36.5 19.2 36.  33.2 42.2 25.3 18.7 35.6 27.5\n",
      " 47.2 41.8 28.4 27.8 41.4 56.7 51.9 31.3 20.5 39.4 13.8 32.9 31.7 31.\n",
      " 36.9 48.9 34.2 36.8 30.9 47.8 55.2 57.5 37.2 51.7 42.  37.4 12.8 50.9\n",
      " 60.4 54.8 37.7 28.9 49.7 16.9 30.4 59.8 45.9 57.6 42.1 34.5 37.8 50.1\n",
      " 17.7 39.7 23.7 36.3 38.5 61.5 26.7 59.9 41.7 46.1 57.4 53.6 42.3  4.2\n",
      " 41.5 16.5 57.3 32.  56.9 35.9 38.8 30.2 27.4 43.3 37.5 58.2 20.6 35.4\n",
      " 50.6 29.8 33.4 52.4 24.7 22.1 39.3 53.2 54.3 45.3 29.  49.  55.4 33.1\n",
      " 27.9 50.4 53.1 16.8 21.3 71.6 33.8 47.7 29.1 57.8 41.6 51.3 58.7 28.8\n",
      " 38.9 44.5 20.1 58.6 47.4 24.  25.4 61.2 47.3 48.8 24.4 29.7 26.4 55.6\n",
      " 50.  27.3 46.4 45.8 58.1 23.8 44.6 54.6 46.9 62.  22.3 48.7 56.5 51.\n",
      " 30.8 33.3 18.9 52.1 22.8 52.   5.6 22.7 53.3 21.7 22.4 76.2 42.5 31.2\n",
      " 14.6 27.6 21.9 61.8 20.9 26.2 21.  39.1 18.3 63.4 19.4 29.6 53.4 68.3\n",
      " 57.7 34.  38.  19.1 25.1 52.8 30.5 36.4 25.2 39.8 56.4 17.5  9.3 69.\n",
      " 51.4 61.4 69.1 25.6 58.  57.1 30.3 20.4 55.9 53.5 13.3 59.  23.5 14.\n",
      " 15.7 65.9 15.3 57.  74.5 27.2 31.5 26.1  8.8 62.7 18.2 54.  49.3 29.2\n",
      " 61.9 28.3 60.2 19.3 58.5 69.4 16.3 17.4 55.7 15.1 55.5 19.  59.6 18.\n",
      " 61.  51.2 62.9 59.5 57.9 59.3 26.3 21.6 19.9 54.2 14.2 60.1 20.3 23.2\n",
      "  3.8 67.3 23.6 56.3 23.  62.8 21.5 58.4 54.1 20.2 57.2 55.1 18.4 67.\n",
      " 59.7 66.3 60.  15.4 38.4 60.3 64.  13.  60.6 56.1 60.9 55.  15.  20.\n",
      " 63.6 68.2 26.5 53.7 16.6 67.5 66.5 62.1 61.3 15.9 64.8 65.1 17.8 62.2\n",
      " 63.2 13.5 14.4 19.7 24.5 72.8 21.8 22.  17.9 63.1 62.4 56.6 16.4 62.6\n",
      "  8.  65.3 15.8 12.  18.6 11.8 68.9 13.7 23.1 26.9 67.6  9.7 62.5 18.8\n",
      " 66.7 59.2 17.3 12.1 16.1 68.6 59.4 68.  13.9  5.8 12.6 65.5 66.8 10.8\n",
      " 17.2 21.2 16.  67.8 17.  11.4 58.9 70.6 15.2 17.6 61.1 12.7 64.4 18.1\n",
      " 16.7  9.8 63.8 70.5 68.5 71.3 14.7 70.  18.5 66.4 67.9 64.6 64.9 24.1\n",
      " 66.1 73.6 63.7 60.8 65.8 65.6 12.2 63.5 67.2 22.2 14.3 13.4 64.7 61.7\n",
      " 14.5 69.6 14.9 12.5 65.2 71.8 76.6 64.2 69.7 61.6 64.1 72.  75.4 15.6\n",
      " 19.5 16.2 15.5]\n",
      "40.2    52\n",
      "38.5    50\n",
      "42.4    50\n",
      "35.8    50\n",
      "37.7    49\n",
      "        ..\n",
      "65.7     1\n",
      "67.8     1\n",
      "16.0     1\n",
      "4.6      1\n",
      "15.5     1\n",
      "Name: Torque [Nm], Length: 577, dtype: int64\n",
      "\n",
      " **************************************** \n",
      "\n",
      "Tool wear [min] :\n",
      " [  0   3   5   7   9  11  14  16  18  21  24  29  34  37  40  42  44  47\n",
      "  50  55  58  63  65  68  70  73  75  77  82  84  86  89  91  93  95  98\n",
      " 101 104 106 111 113 115 117 120 125 128 130 133 135 140 143 145 147 152\n",
      " 154 156 158 160 162 165 167 169 172 174 177 179 181 184 189 191 193 196\n",
      " 198 200 202 204 206 208   2   4  13  15  17  20  25  27  30  33  35  53\n",
      "  57  59  61  66  72  80  92  97  99 103 108 110 112 114 116 118 122 124\n",
      " 126 132 138 148 150 155 157 159 161 164 186 188 194 203 211 214 216 218\n",
      "   8  10  22  32  39  41  43  45  49  54  67  69  74  76  81  96 105 107\n",
      " 119 137 142 144 146 151 153 166 168 170 173 175 183 185 190 195 197 209\n",
      " 212  19  51  56  78  83  85  88  90  94 109 131 134 136 192 199 201 205\n",
      " 210 215  48  71  79 123 127 129 141 176 178 180 182 207 213  28 139 163\n",
      " 171 221   6  26  46  60 100 121 220 222 224 229 231 233 235 240  31  38\n",
      " 187  12  23  62  64  87 217 219 227 236 238 102 149  36 223 226 228 230\n",
      " 225  52 242 244 246 232 234 237 239 241 251 253]\n",
      "0      120\n",
      "2       69\n",
      "5       63\n",
      "7       58\n",
      "59      58\n",
      "      ... \n",
      "237      1\n",
      "239      1\n",
      "241      1\n",
      "251      1\n",
      "253      1\n",
      "Name: Tool wear [min], Length: 246, dtype: int64\n",
      "\n",
      " **************************************** \n",
      "\n",
      "Machine failure :\n",
      " [0 1]\n",
      "0    9661\n",
      "1     339\n",
      "Name: Machine failure, dtype: int64\n",
      "\n",
      " **************************************** \n",
      "\n",
      "TWF :\n",
      " [0 1]\n",
      "0    9954\n",
      "1      46\n",
      "Name: TWF, dtype: int64\n",
      "\n",
      " **************************************** \n",
      "\n",
      "HDF :\n",
      " [0 1]\n",
      "0    9885\n",
      "1     115\n",
      "Name: HDF, dtype: int64\n",
      "\n",
      " **************************************** \n",
      "\n",
      "PWF :\n",
      " [0 1]\n",
      "0    9905\n",
      "1      95\n",
      "Name: PWF, dtype: int64\n",
      "\n",
      " **************************************** \n",
      "\n",
      "OSF :\n",
      " [0 1]\n",
      "0    9902\n",
      "1      98\n",
      "Name: OSF, dtype: int64\n",
      "\n",
      " **************************************** \n",
      "\n",
      "RNF :\n",
      " [0 1]\n",
      "0    9981\n",
      "1      19\n",
      "Name: RNF, dtype: int64\n",
      "\n",
      " **************************************** \n",
      "\n"
     ]
    }
   ],
   "source": [
    "# let's check unique values\n",
    "columns=df.columns\n",
    "for col in columns:\n",
    "    print(col,':\\n',df[col].unique())\n",
    "    print(df[col].value_counts())\n",
    "    print('\\n',20*'**','\\n')"
   ]
  },
  {
   "cell_type": "code",
   "execution_count": 24,
   "id": "6e128d96",
   "metadata": {},
   "outputs": [
    {
     "data": {
      "text/plain": [
       "array([[<AxesSubplot:title={'center':'UDI'}>,\n",
       "        <AxesSubplot:title={'center':'Air temperature [K]'}>,\n",
       "        <AxesSubplot:title={'center':'Process temperature [K]'}>],\n",
       "       [<AxesSubplot:title={'center':'Rotational speed [rpm]'}>,\n",
       "        <AxesSubplot:title={'center':'Torque [Nm]'}>,\n",
       "        <AxesSubplot:title={'center':'Tool wear [min]'}>],\n",
       "       [<AxesSubplot:title={'center':'Machine failure'}>,\n",
       "        <AxesSubplot:title={'center':'TWF'}>,\n",
       "        <AxesSubplot:title={'center':'HDF'}>],\n",
       "       [<AxesSubplot:title={'center':'PWF'}>,\n",
       "        <AxesSubplot:title={'center':'OSF'}>,\n",
       "        <AxesSubplot:title={'center':'RNF'}>]], dtype=object)"
      ]
     },
     "execution_count": 24,
     "metadata": {},
     "output_type": "execute_result"
    },
    {
     "data": {
      "image/png": "[encoded data removed]",
      "text/plain": [
       "<Figure size 1800x1440 with 12 Axes>"
      ]
     },
     "metadata": {},
     "output_type": "display_data"
    }
   ],
   "source": [
    "plt.style.use(\"seaborn\")\n",
    "df.hist(figsize=(25,20), bins=15)"
   ]
  },
  {
   "cell_type": "code",
   "execution_count": 8,
   "id": "5d81994b",
   "metadata": {},
   "outputs": [
    {
     "data": {
      "text/html": [
       "<div>\n",
       "<style scoped>\n",
       "    .dataframe tbody tr th:only-of-type {\n",
       "        vertical-align: middle;\n",
       "    }\n",
       "\n",
       "    .dataframe tbody tr th {\n",
       "        vertical-align: top;\n",
       "    }\n",
       "\n",
       "    .dataframe thead th {\n",
       "        text-align: right;\n",
       "    }\n",
       "</style>\n",
       "<table border=\"1\" class=\"dataframe\">\n",
       "  <thead>\n",
       "    <tr style=\"text-align: right;\">\n",
       "      <th></th>\n",
       "      <th>UDI</th>\n",
       "      <th>Air temperature [K]</th>\n",
       "      <th>Process temperature [K]</th>\n",
       "      <th>Rotational speed [rpm]</th>\n",
       "      <th>Torque [Nm]</th>\n",
       "      <th>Tool wear [min]</th>\n",
       "      <th>Machine failure</th>\n",
       "      <th>TWF</th>\n",
       "      <th>HDF</th>\n",
       "      <th>PWF</th>\n",
       "      <th>OSF</th>\n",
       "      <th>RNF</th>\n",
       "    </tr>\n",
       "  </thead>\n",
       "  <tbody>\n",
       "    <tr>\n",
       "      <th>count</th>\n",
       "      <td>10000.00000</td>\n",
       "      <td>10000.000000</td>\n",
       "      <td>10000.000000</td>\n",
       "      <td>10000.000000</td>\n",
       "      <td>10000.000000</td>\n",
       "      <td>10000.000000</td>\n",
       "      <td>10000.000000</td>\n",
       "      <td>10000.000000</td>\n",
       "      <td>10000.000000</td>\n",
       "      <td>10000.000000</td>\n",
       "      <td>10000.000000</td>\n",
       "      <td>10000.00000</td>\n",
       "    </tr>\n",
       "    <tr>\n",
       "      <th>mean</th>\n",
       "      <td>5000.50000</td>\n",
       "      <td>300.004930</td>\n",
       "      <td>310.005560</td>\n",
       "      <td>1538.776100</td>\n",
       "      <td>39.986910</td>\n",
       "      <td>107.951000</td>\n",
       "      <td>0.033900</td>\n",
       "      <td>0.004600</td>\n",
       "      <td>0.011500</td>\n",
       "      <td>0.009500</td>\n",
       "      <td>0.009800</td>\n",
       "      <td>0.00190</td>\n",
       "    </tr>\n",
       "    <tr>\n",
       "      <th>std</th>\n",
       "      <td>2886.89568</td>\n",
       "      <td>2.000259</td>\n",
       "      <td>1.483734</td>\n",
       "      <td>179.284096</td>\n",
       "      <td>9.968934</td>\n",
       "      <td>63.654147</td>\n",
       "      <td>0.180981</td>\n",
       "      <td>0.067671</td>\n",
       "      <td>0.106625</td>\n",
       "      <td>0.097009</td>\n",
       "      <td>0.098514</td>\n",
       "      <td>0.04355</td>\n",
       "    </tr>\n",
       "    <tr>\n",
       "      <th>min</th>\n",
       "      <td>1.00000</td>\n",
       "      <td>295.300000</td>\n",
       "      <td>305.700000</td>\n",
       "      <td>1168.000000</td>\n",
       "      <td>3.800000</td>\n",
       "      <td>0.000000</td>\n",
       "      <td>0.000000</td>\n",
       "      <td>0.000000</td>\n",
       "      <td>0.000000</td>\n",
       "      <td>0.000000</td>\n",
       "      <td>0.000000</td>\n",
       "      <td>0.00000</td>\n",
       "    </tr>\n",
       "    <tr>\n",
       "      <th>25%</th>\n",
       "      <td>2500.75000</td>\n",
       "      <td>298.300000</td>\n",
       "      <td>308.800000</td>\n",
       "      <td>1423.000000</td>\n",
       "      <td>33.200000</td>\n",
       "      <td>53.000000</td>\n",
       "      <td>0.000000</td>\n",
       "      <td>0.000000</td>\n",
       "      <td>0.000000</td>\n",
       "      <td>0.000000</td>\n",
       "      <td>0.000000</td>\n",
       "      <td>0.00000</td>\n",
       "    </tr>\n",
       "    <tr>\n",
       "      <th>50%</th>\n",
       "      <td>5000.50000</td>\n",
       "      <td>300.100000</td>\n",
       "      <td>310.100000</td>\n",
       "      <td>1503.000000</td>\n",
       "      <td>40.100000</td>\n",
       "      <td>108.000000</td>\n",
       "      <td>0.000000</td>\n",
       "      <td>0.000000</td>\n",
       "      <td>0.000000</td>\n",
       "      <td>0.000000</td>\n",
       "      <td>0.000000</td>\n",
       "      <td>0.00000</td>\n",
       "    </tr>\n",
       "    <tr>\n",
       "      <th>75%</th>\n",
       "      <td>7500.25000</td>\n",
       "      <td>301.500000</td>\n",
       "      <td>311.100000</td>\n",
       "      <td>1612.000000</td>\n",
       "      <td>46.800000</td>\n",
       "      <td>162.000000</td>\n",
       "      <td>0.000000</td>\n",
       "      <td>0.000000</td>\n",
       "      <td>0.000000</td>\n",
       "      <td>0.000000</td>\n",
       "      <td>0.000000</td>\n",
       "      <td>0.00000</td>\n",
       "    </tr>\n",
       "    <tr>\n",
       "      <th>max</th>\n",
       "      <td>10000.00000</td>\n",
       "      <td>304.500000</td>\n",
       "      <td>313.800000</td>\n",
       "      <td>2886.000000</td>\n",
       "      <td>76.600000</td>\n",
       "      <td>253.000000</td>\n",
       "      <td>1.000000</td>\n",
       "      <td>1.000000</td>\n",
       "      <td>1.000000</td>\n",
       "      <td>1.000000</td>\n",
       "      <td>1.000000</td>\n",
       "      <td>1.00000</td>\n",
       "    </tr>\n",
       "  </tbody>\n",
       "</table>\n",
       "</div>"
      ],
      "text/plain": [
       "               UDI  Air temperature [K]  Process temperature [K]  \\\n",
       "count  10000.00000         10000.000000             10000.000000   \n",
       "mean    5000.50000           300.004930               310.005560   \n",
       "std     2886.89568             2.000259                 1.483734   \n",
       "min        1.00000           295.300000               305.700000   \n",
       "25%     2500.75000           298.300000               308.800000   \n",
       "50%     5000.50000           300.100000               310.100000   \n",
       "75%     7500.25000           301.500000               311.100000   \n",
       "max    10000.00000           304.500000               313.800000   \n",
       "\n",
       "       Rotational speed [rpm]   Torque [Nm]  Tool wear [min]  Machine failure  \\\n",
       "count            10000.000000  10000.000000     10000.000000     10000.000000   \n",
       "mean              1538.776100     39.986910       107.951000         0.033900   \n",
       "std                179.284096      9.968934        63.654147         0.180981   \n",
       "min               1168.000000      3.800000         0.000000         0.000000   \n",
       "25%               1423.000000     33.200000        53.000000         0.000000   \n",
       "50%               1503.000000     40.100000       108.000000         0.000000   \n",
       "75%               1612.000000     46.800000       162.000000         0.000000   \n",
       "max               2886.000000     76.600000       253.000000         1.000000   \n",
       "\n",
       "                TWF           HDF           PWF           OSF          RNF  \n",
       "count  10000.000000  10000.000000  10000.000000  10000.000000  10000.00000  \n",
       "mean       0.004600      0.011500      0.009500      0.009800      0.00190  \n",
       "std        0.067671      0.106625      0.097009      0.098514      0.04355  \n",
       "min        0.000000      0.000000      0.000000      0.000000      0.00000  \n",
       "25%        0.000000      0.000000      0.000000      0.000000      0.00000  \n",
       "50%        0.000000      0.000000      0.000000      0.000000      0.00000  \n",
       "75%        0.000000      0.000000      0.000000      0.000000      0.00000  \n",
       "max        1.000000      1.000000      1.000000      1.000000      1.00000  "
      ]
     },
     "execution_count": 8,
     "metadata": {},
     "output_type": "execute_result"
    }
   ],
   "source": [
    "df.describe()"
   ]
  },
  {
   "cell_type": "code",
   "execution_count": 10,
   "id": "484840f7",
   "metadata": {},
   "outputs": [
    {
     "data": {
      "text/plain": [
       "UDI                        0\n",
       "Product ID                 0\n",
       "Type                       0\n",
       "Air temperature [K]        0\n",
       "Process temperature [K]    0\n",
       "Rotational speed [rpm]     0\n",
       "Torque [Nm]                0\n",
       "Tool wear [min]            0\n",
       "Machine failure            0\n",
       "TWF                        0\n",
       "HDF                        0\n",
       "PWF                        0\n",
       "OSF                        0\n",
       "RNF                        0\n",
       "dtype: int64"
      ]
     },
     "execution_count": 10,
     "metadata": {},
     "output_type": "execute_result"
    }
   ],
   "source": [
    "df.isna().sum()"
   ]
  },
  {
   "cell_type": "code",
   "execution_count": 13,
   "id": "4f845a8f",
   "metadata": {},
   "outputs": [
    {
     "data": {
      "text/plain": [
       "0    9661\n",
       "1     339\n",
       "Name: Machine failure, dtype: int64"
      ]
     },
     "execution_count": 13,
     "metadata": {},
     "output_type": "execute_result"
    }
   ],
   "source": [
    "df[\"Machine failure\"].value_counts()"
   ]
  },
  {
   "cell_type": "code",
   "execution_count": 20,
   "id": "b5920561",
   "metadata": {},
   "outputs": [
    {
     "data": {
      "text/plain": [
       "<AxesSubplot:xlabel='Machine failure', ylabel='count'>"
      ]
     },
     "execution_count": 20,
     "metadata": {},
     "output_type": "execute_result"
    },
    {
     "data": {
      "image/png": "[encoded data removed]",
      "text/plain": [
       "<Figure size 432x288 with 1 Axes>"
      ]
     },
     "metadata": {
      "needs_background": "light"
     },
     "output_type": "display_data"
    }
   ],
   "source": [
    "sns.countplot(x=\"Machine failure\", data=df)"
   ]
  },
  {
   "cell_type": "code",
   "execution_count": 18,
   "id": "495cba0d",
   "metadata": {},
   "outputs": [
    {
     "data": {
      "text/plain": [
       "<AxesSubplot:ylabel='Machine failure'>"
      ]
     },
     "execution_count": 18,
     "metadata": {},
     "output_type": "execute_result"
    },
    {
     "data": {
      "image/png": "[encoded data removed]",
      "text/plain": [
       "<Figure size 432x288 with 1 Axes>"
      ]
     },
     "metadata": {},
     "output_type": "display_data"
    }
   ],
   "source": [
    "df['Machine failure'].value_counts().plot(kind='pie',autopct='%1.1f%%')"
   ]
  },
  {
   "cell_type": "code",
   "execution_count": 25,
   "id": "2f3d3293",
   "metadata": {},
   "outputs": [
    {
     "data": {
      "text/plain": [
       "L    6000\n",
       "M    2997\n",
       "H    1003\n",
       "Name: Type, dtype: int64"
      ]
     },
     "execution_count": 25,
     "metadata": {},
     "output_type": "execute_result"
    }
   ],
   "source": [
    "df['Type'].value_counts()"
   ]
  },
  {
   "cell_type": "code",
   "execution_count": 26,
   "id": "d61c2c3a",
   "metadata": {},
   "outputs": [
    {
     "data": {
      "text/plain": [
       "<AxesSubplot:xlabel='Type', ylabel='count'>"
      ]
     },
     "execution_count": 26,
     "metadata": {},
     "output_type": "execute_result"
    },
    {
     "data": {
      "image/png": "[encoded data removed]",
      "text/plain": [
       "<Figure size 576x396 with 1 Axes>"
      ]
     },
     "metadata": {},
     "output_type": "display_data"
    }
   ],
   "source": [
    "sns.countplot(x=\"Type\", data=df)"
   ]
  },
  {
   "cell_type": "code",
   "execution_count": 27,
   "id": "e72e464d",
   "metadata": {},
   "outputs": [
    {
     "data": {
      "text/plain": [
       "<AxesSubplot:ylabel='Type'>"
      ]
     },
     "execution_count": 27,
     "metadata": {},
     "output_type": "execute_result"
    },
    {
     "data": {
      "image/png": "[encoded data removed]",
      "text/plain": [
       "<Figure size 576x396 with 1 Axes>"
      ]
     },
     "metadata": {},
     "output_type": "display_data"
    }
   ],
   "source": [
    "df['Type'].value_counts().plot(kind='pie',autopct='%1.1f%%')"
   ]
  },
  {
   "cell_type": "code",
   "execution_count": 28,
   "id": "02c79da4",
   "metadata": {},
   "outputs": [
    {
     "data": {
      "text/plain": [
       "0    9954\n",
       "1      46\n",
       "Name: TWF, dtype: int64"
      ]
     },
     "execution_count": 28,
     "metadata": {},
     "output_type": "execute_result"
    }
   ],
   "source": [
    "df['TWF'].value_counts()"
   ]
  },
  {
   "cell_type": "code",
   "execution_count": 29,
   "id": "ccfb28e2",
   "metadata": {},
   "outputs": [
    {
     "data": {
      "text/plain": [
       "<AxesSubplot:xlabel='TWF', ylabel='count'>"
      ]
     },
     "execution_count": 29,
     "metadata": {},
     "output_type": "execute_result"
    },
    {
     "data": {
      "image/png": "[encoded data removed]",
      "text/plain": [
       "<Figure size 576x396 with 1 Axes>"
      ]
     },
     "metadata": {},
     "output_type": "display_data"
    }
   ],
   "source": [
    "sns.countplot(x=\"TWF\", data=df)"
   ]
  },
  {
   "cell_type": "code",
   "execution_count": 30,
   "id": "f3a9cac3",
   "metadata": {},
   "outputs": [
    {
     "data": {
      "text/plain": [
       "<AxesSubplot:ylabel='TWF'>"
      ]
     },
     "execution_count": 30,
     "metadata": {},
     "output_type": "execute_result"
    },
    {
     "data": {
      "image/png": "[encoded data removed]",
      "text/plain": [
       "<Figure size 576x396 with 1 Axes>"
      ]
     },
     "metadata": {},
     "output_type": "display_data"
    }
   ],
   "source": [
    "df['TWF'].value_counts().plot(kind='pie',autopct='%1.1f%%')"
   ]
  },
  {
   "cell_type": "code",
   "execution_count": 31,
   "id": "bc88adf3",
   "metadata": {},
   "outputs": [
    {
     "data": {
      "text/plain": [
       "0    9885\n",
       "1     115\n",
       "Name: HDF, dtype: int64"
      ]
     },
     "execution_count": 31,
     "metadata": {},
     "output_type": "execute_result"
    }
   ],
   "source": [
    "df['HDF'].value_counts()"
   ]
  },
  {
   "cell_type": "code",
   "execution_count": 32,
   "id": "8a025523",
   "metadata": {},
   "outputs": [
    {
     "data": {
      "text/plain": [
       "<AxesSubplot:xlabel='HDF', ylabel='count'>"
      ]
     },
     "execution_count": 32,
     "metadata": {},
     "output_type": "execute_result"
    },
    {
     "data": {
      "image/png": "[encoded data removed]",
      "text/plain": [
       "<Figure size 576x396 with 1 Axes>"
      ]
     },
     "metadata": {},
     "output_type": "display_data"
    }
   ],
   "source": [
    "sns.countplot(x=\"HDF\", data=df)"
   ]
  },
  {
   "cell_type": "code",
   "execution_count": 33,
   "id": "a0ba71dd",
   "metadata": {},
   "outputs": [
    {
     "data": {
      "text/plain": [
       "<AxesSubplot:ylabel='HDF'>"
      ]
     },
     "execution_count": 33,
     "metadata": {},
     "output_type": "execute_result"
    },
    {
     "data": {
      "image/png": "[encoded data removed]",
      "text/plain": [
       "<Figure size 576x396 with 1 Axes>"
      ]
     },
     "metadata": {},
     "output_type": "display_data"
    }
   ],
   "source": [
    "df['HDF'].value_counts().plot(kind='pie',autopct='%1.1f%%')"
   ]
  },
  {
   "cell_type": "code",
   "execution_count": 34,
   "id": "8329489a",
   "metadata": {},
   "outputs": [
    {
     "data": {
      "text/plain": [
       "0    9905\n",
       "1      95\n",
       "Name: PWF, dtype: int64"
      ]
     },
     "execution_count": 34,
     "metadata": {},
     "output_type": "execute_result"
    }
   ],
   "source": [
    "df['PWF'].value_counts()"
   ]
  },
  {
   "cell_type": "code",
   "execution_count": 35,
   "id": "93a6334d",
   "metadata": {},
   "outputs": [
    {
     "data": {
      "text/plain": [
       "<AxesSubplot:xlabel='PWF', ylabel='count'>"
      ]
     },
     "execution_count": 35,
     "metadata": {},
     "output_type": "execute_result"
    },
    {
     "data": {
      "image/png": "[encoded data removed]",
      "text/plain": [
       "<Figure size 576x396 with 1 Axes>"
      ]
     },
     "metadata": {},
     "output_type": "display_data"
    }
   ],
   "source": [
    "sns.countplot(x=\"PWF\", data=df)"
   ]
  },
  {
   "cell_type": "code",
   "execution_count": 36,
   "id": "ba57f913",
   "metadata": {},
   "outputs": [
    {
     "data": {
      "text/plain": [
       "<AxesSubplot:ylabel='PWF'>"
      ]
     },
     "execution_count": 36,
     "metadata": {},
     "output_type": "execute_result"
    },
    {
     "data": {
      "image/png": "[encoded data removed]",
      "text/plain": [
       "<Figure size 576x396 with 1 Axes>"
      ]
     },
     "metadata": {},
     "output_type": "display_data"
    }
   ],
   "source": [
    "df['PWF'].value_counts().plot(kind='pie',autopct='%1.1f%%')"
   ]
  },
  {
   "cell_type": "code",
   "execution_count": 37,
   "id": "91517e2e",
   "metadata": {},
   "outputs": [
    {
     "data": {
      "text/plain": [
       "0    9902\n",
       "1      98\n",
       "Name: OSF, dtype: int64"
      ]
     },
     "execution_count": 37,
     "metadata": {},
     "output_type": "execute_result"
    }
   ],
   "source": [
    "df['OSF'].value_counts()"
   ]
  },
  {
   "cell_type": "code",
   "execution_count": 38,
   "id": "d5cf0b2d",
   "metadata": {},
   "outputs": [
    {
     "data": {
      "text/plain": [
       "<AxesSubplot:xlabel='OSF', ylabel='count'>"
      ]
     },
     "execution_count": 38,
     "metadata": {},
     "output_type": "execute_result"
    },
    {
     "data": {
      "image/png": "[encoded data removed]",
      "text/plain": [
       "<Figure size 576x396 with 1 Axes>"
      ]
     },
     "metadata": {},
     "output_type": "display_data"
    }
   ],
   "source": [
    "sns.countplot(x=\"OSF\", data=df)"
   ]
  },
  {
   "cell_type": "code",
   "execution_count": 39,
   "id": "ad4c1353",
   "metadata": {},
   "outputs": [
    {
     "data": {
      "text/plain": [
       "<AxesSubplot:ylabel='OSF'>"
      ]
     },
     "execution_count": 39,
     "metadata": {},
     "output_type": "execute_result"
    },
    {
     "data": {
      "image/png": "[encoded data removed]",
      "text/plain": [
       "<Figure size 576x396 with 1 Axes>"
      ]
     },
     "metadata": {},
     "output_type": "display_data"
    }
   ],
   "source": [
    "df['OSF'].value_counts().plot(kind='pie',autopct='%1.1f%%')"
   ]
  },
  {
   "cell_type": "code",
   "execution_count": 41,
   "id": "c4c68c8c",
   "metadata": {},
   "outputs": [
    {
     "data": {
      "text/plain": [
       "0    9981\n",
       "1      19\n",
       "Name: RNF, dtype: int64"
      ]
     },
     "execution_count": 41,
     "metadata": {},
     "output_type": "execute_result"
    }
   ],
   "source": [
    "df['RNF'].value_counts()"
   ]
  },
  {
   "cell_type": "code",
   "execution_count": 42,
   "id": "aab741bc",
   "metadata": {},
   "outputs": [
    {
     "data": {
      "text/plain": [
       "<AxesSubplot:xlabel='RNF', ylabel='count'>"
      ]
     },
     "execution_count": 42,
     "metadata": {},
     "output_type": "execute_result"
    },
    {
     "data": {
      "image/png": "[encoded data removed]",
      "text/plain": [
       "<Figure size 576x396 with 1 Axes>"
      ]
     },
     "metadata": {},
     "output_type": "display_data"
    }
   ],
   "source": [
    "sns.countplot(x=\"RNF\", data=df)"
   ]
  },
  {
   "cell_type": "code",
   "execution_count": 43,
   "id": "4e557de9",
   "metadata": {},
   "outputs": [
    {
     "data": {
      "text/plain": [
       "<AxesSubplot:ylabel='RNF'>"
      ]
     },
     "execution_count": 43,
     "metadata": {},
     "output_type": "execute_result"
    },
    {
     "data": {
      "image/png": "[encoded data removed]",
      "text/plain": [
       "<Figure size 576x396 with 1 Axes>"
      ]
     },
     "metadata": {},
     "output_type": "display_data"
    }
   ],
   "source": [
    "df['RNF'].value_counts().plot(kind='pie',autopct='%1.1f%%')"
   ]
  },
  {
   "cell_type": "code",
   "execution_count": null,
   "id": "31d0649a",
   "metadata": {},
   "outputs": [],
   "source": []
  }
 ],
 "metadata": {
  "kernelspec": {
   "display_name": "Python 3 (ipykernel)",
   "language": "python",
   "name": "python3"
  },
  "language_info": {
   "codemirror_mode": {
    "name": "ipython",
    "version": 3
   },
   "file_extension": ".py",
   "mimetype": "text/x-python",
   "name": "python",
   "nbconvert_exporter": "python",
   "pygments_lexer": "ipython3",
   "version": "3.9.7"
  }
 },
 "nbformat": 4,
 "nbformat_minor": 5
}
